{
 "cells": [
  {
   "cell_type": "markdown",
   "id": "f16163d2dd773fbc",
   "metadata": {
    "collapsed": false
   },
   "source": [
    "# Project 3"
   ]
  },
  {
   "cell_type": "markdown",
   "id": "c95f1a3a9db8e3f9",
   "metadata": {
    "collapsed": false
   },
   "source": [
    "#### Importing libraries"
   ]
  },
  {
   "cell_type": "code",
   "execution_count": 1,
   "id": "824a840beb8b323e",
   "metadata": {
    "collapsed": false
   },
   "outputs": [],
   "source": [
    "import numpy as np\n",
    "from torchvision import transforms\n",
    "from torch.utils.data import DataLoader, TensorDataset\n",
    "import os\n",
    "import torch\n",
    "from torchvision import transforms\n",
    "import torchvision.datasets as datasets\n",
    "import torch.nn as nn\n",
    "import torch.nn.functional as F\n",
    "from torchvision.models import resnet50, ResNet50_Weights\n",
    "import torch.optim as optim"
   ]
  },
  {
   "cell_type": "code",
   "execution_count": 3,
   "id": "82adb41ca8c23be6",
   "metadata": {
    "collapsed": false
   },
   "outputs": [],
   "source": [
    "# The device is automatically set to GPU if available, otherwise CPU\n",
    "# If you want to force the device to CPU, you can change the line to\n",
    "# device = torch.device(\"cpu\")\n",
    "# When using the GPU, it is important that your model and all data are on the \n",
    "# same device.\n",
    "device = torch.device(\"mps\")"
   ]
  },
  {
   "cell_type": "code",
   "execution_count": 4,
   "id": "6b3d5c760c9c963b",
   "metadata": {
    "collapsed": false
   },
   "outputs": [
    {
     "name": "stdout",
     "output_type": "stream",
     "text": [
      "0--1--2--3--4--5--6--7--8--9--10--11--12--13--14--15--16--17--18--19--20--21--22--23--24--25--26--27--28--29--30--31--32--33--34--35--36--37--38--39--40--41--42--43--44--45--46--47--48--49--50--51--52--53--54--55--56--57--58--59--60--61--62--63--64--65--66--67--68--69--70--71--72--73--74--75--76--77--78--79--80--81--82--83--84--85--86--87--88--89--90--91--92--93--94--95--96--97--98--99--100--101--102--103--104--105--106--107--108--109--110--111--112--113--114--115--116--117--118--119--120--121--122--123--124--125--126--127--128--129--130--131--132--133--134--135--136--137--138--139--140--141--142--143--144--145--146--147--148--149--150--151--152--153--154--155--156--"
     ]
    }
   ],
   "source": [
    "\"\"\"\n",
    "Transform, resize and normalize the images and then use a pretrained model to extract \n",
    "the embeddings.\n",
    "\"\"\"\n",
    "# TODO: define a transform to pre-process the images\n",
    "# The required pre-processing depends on the pre-trained model you choose \n",
    "# below. \n",
    "# See https://pytorch.org/vision/stable/models.html#using-the-pre-trained-models\n",
    "train_transforms = ResNet50_Weights.IMAGENET1K_V2.transforms()\n",
    "train_dataset = datasets.ImageFolder(root=\"dataset/\", transform=train_transforms)\n",
    "# Hint: adjust batch_size and num_workers to your PC configuration, so that you don't \n",
    "# run out of memory (VRAM if on GPU, RAM if on CPU)\n",
    "batch = 64\n",
    "train_loader = DataLoader(dataset=train_dataset,\n",
    "                          batch_size=batch,\n",
    "                          shuffle=False,\n",
    "                          pin_memory=True,\n",
    "                          num_workers=10)\n",
    "# TODO: define a model for extraction of the embeddings (Hint: load a pretrained model,\n",
    "# more info here: https://pytorch.org/vision/stable/models.html)\n",
    "model = resnet50(weights=ResNet50_Weights.IMAGENET1K_V2)\n",
    "embedding_size = 2048 # Dummy variable, replace with the actual embedding size once you pick your model\n",
    "num_images = len(train_dataset)\n",
    "embeddings = np.zeros((num_images, embedding_size))\n",
    "# TODO: Use the model to extract the embeddings. Hint: remove the last layers of the \n",
    "# model to access the embeddings the model generates. \n",
    "model.fc = nn.Sequential()\n",
    "model.to(device)\n",
    "i = 0\n",
    "for inputs, _ in train_loader:\n",
    "    inputs = inputs.to(device)\n",
    "    outputs = model(inputs)\n",
    "    embeddings[batch*i : batch*(i+1)] = outputs.cpu().detach().numpy()\n",
    "    del inputs\n",
    "    del outputs\n",
    "    print(i, end=\"--\")\n",
    "    i += 1\n",
    "np.save('dataset/embeddings.npy', embeddings)"
   ]
  },
  {
   "cell_type": "code",
   "execution_count": 5,
   "id": "335d91cc379d4f6b",
   "metadata": {
    "collapsed": false
   },
   "outputs": [],
   "source": [
    "def get_data(file, train=True):\n",
    "    \"\"\"\n",
    "    Load the triplets from the file and generate the features and labels.\n",
    "\n",
    "    input: file: string, the path to the file containing the triplets\n",
    "           train: boolean, whether the data is for training or testing\n",
    "\n",
    "    output: X: numpy array, the features\n",
    "            y: numpy array, the labels\n",
    "    \"\"\"\n",
    "    triplets = []\n",
    "    with open(file) as f:\n",
    "        for line in f:\n",
    "            triplets.append(line)\n",
    "\n",
    "    # generate training data from triplets\n",
    "    train_dataset = datasets.ImageFolder(root=\"dataset/\",\n",
    "                                         transform=None)\n",
    "    filenames = [s[0].split('/')[-1].replace('.jpg', '') for s in train_dataset.samples]\n",
    "    embeddings = np.load('dataset/embeddings.npy')\n",
    "    # TODO: Normalize the embeddings\n",
    "    embeddings = (embeddings - np.mean(embeddings, axis=1)[:, np.newaxis]) / np.std(embeddings, axis=1)[:, np.newaxis]\n",
    "    file_to_embedding = {}\n",
    "    for i in range(len(filenames)):\n",
    "        file_to_embedding[filenames[i]] = embeddings[i]\n",
    "    X = []\n",
    "    y = []\n",
    "    # use the individual embeddings to generate the features and labels for triplets\n",
    "    for t in triplets:\n",
    "        emb = [file_to_embedding[a] for a in t.split()]\n",
    "        X.append(np.hstack([emb[0], emb[1], emb[2]]))\n",
    "        y.append(1)\n",
    "        # Generating negative samples (data augmentation)\n",
    "        if train:\n",
    "            X.append(np.hstack([emb[0], emb[2], emb[1]]))\n",
    "            y.append(0)\n",
    "    X = np.vstack(X)\n",
    "    y = np.hstack(y)\n",
    "    return X, y"
   ]
  },
  {
   "cell_type": "code",
   "execution_count": 6,
   "id": "6daf836a4adb0abe",
   "metadata": {
    "collapsed": false
   },
   "outputs": [],
   "source": [
    "def create_loader_from_np(X, y = None, train = True, batch_size=batch, shuffle=True, num_workers = 10):\n",
    "    \"\"\"\n",
    "    Create a torch.utils.data.DataLoader object from numpy arrays containing the data.\n",
    "\n",
    "    input: X: numpy array, the features\n",
    "           y: numpy array, the labels\n",
    "    \n",
    "    output: loader: torch.data.util.DataLoader, the object containing the data\n",
    "    \"\"\"\n",
    "    if train:\n",
    "        # Attention: If you get type errors you can modify the type of the\n",
    "        # labels here\n",
    "        dataset = TensorDataset(torch.from_numpy(X).type(torch.float), \n",
    "                                torch.from_numpy(y).type(torch.float))\n",
    "    else:\n",
    "        dataset = TensorDataset(torch.from_numpy(X).type(torch.float))\n",
    "    loader = DataLoader(dataset=dataset,\n",
    "                        batch_size=batch_size,\n",
    "                        shuffle=shuffle,\n",
    "                        pin_memory=True, num_workers=num_workers)\n",
    "    return loader"
   ]
  },
  {
   "cell_type": "code",
   "execution_count": 70,
   "id": "6e1b0092e0b13f88",
   "metadata": {
    "collapsed": false
   },
   "outputs": [],
   "source": [
    "TRAIN_TRIPLETS = 'train_triplets.txt'\n",
    "\n",
    "# load the training data\n",
    "X, y = get_data(TRAIN_TRIPLETS)\n",
    "# Create data loaders for the training data\n",
    "train_loader = create_loader_from_np(X[0:round(0.9*X.shape[0])], y[0:round(0.9*len(y))], train = True, batch_size=batch)\n",
    "valid_loader = create_loader_from_np(X[round(0.9*X.shape[0]):], y[round(0.9*len(y)):], train = True, batch_size=batch)\n",
    "# delete the loaded training data to save memory, as the data loader copies\n",
    "del X\n",
    "del y"
   ]
  },
  {
   "cell_type": "code",
   "execution_count": 9,
   "id": "d5082344",
   "metadata": {},
   "outputs": [],
   "source": [
    "TEST_TRIPLETS = 'test_triplets.txt'\n",
    "\n",
    "# repeat for testing data\n",
    "X_test, y_test = get_data(TEST_TRIPLETS, train=False)\n",
    "test_loader = create_loader_from_np(X_test, train = False, batch_size=2048, shuffle=False)\n",
    "del X_test\n",
    "del y_test"
   ]
  },
  {
   "cell_type": "markdown",
   "id": "e1baa5918f11a049",
   "metadata": {
    "collapsed": false
   },
   "source": [
    "TODO: define a model. Here, the basic structure is defined, but you need to fill in the details"
   ]
  },
  {
   "cell_type": "code",
   "execution_count": 71,
   "id": "fcd11318eb7b9488",
   "metadata": {
    "collapsed": false
   },
   "outputs": [],
   "source": [
    "class Net(nn.Module):\n",
    "    \"\"\"\n",
    "    The model class, which defines our classifier.\n",
    "    \"\"\"\n",
    "    def __init__(self):\n",
    "        \"\"\"\n",
    "        The constructor of the model.\n",
    "        \"\"\"\n",
    "        super().__init__()\n",
    "        self.fc1 = nn.Linear(6144, 512)\n",
    "        # self.dropout1 = nn.Dropout(0.2)\n",
    "        self.fc2 = nn.Linear(512, 1)\n",
    "        # self.dropout2 = nn.Dropout(0.2)\n",
    "        # self.fc3 = nn.Linear(64, 1)\n",
    "\n",
    "    def forward(self, x):\n",
    "        \"\"\"\n",
    "        The forward pass of the model.\n",
    "\n",
    "        input: x: torch.Tensor, the input to the model\n",
    "\n",
    "        output: x: torch.Tensor, the output of the model\n",
    "        \"\"\"\n",
    "        x = self.fc1(x)\n",
    "        x = F.relu(x)\n",
    "        # x = self.dropout1(x)\n",
    "        x = self.fc2(x)\n",
    "        # x = F.relu(x)\n",
    "        # x = self.dropout2(x)\n",
    "        # x = self.fc3(x)\n",
    "        return x"
   ]
  },
  {
   "cell_type": "code",
   "execution_count": 72,
   "id": "28634c90281cd699",
   "metadata": {
    "collapsed": false
   },
   "outputs": [
    {
     "name": "stdout",
     "output_type": "stream",
     "text": [
      "Epoch 0, Batch id 0, training loss 0.7075895071029663\n",
      "Epoch 0, Batch id 200, training loss 0.6446843147277832\n",
      "Epoch 0, Batch id 400, training loss 0.5431334972381592\n",
      "Epoch 0, Batch id 600, training loss 0.5247482061386108\n",
      "Epoch 0, Batch id 800, training loss 0.6700018644332886\n",
      "Epoch 0, Batch id 1000, training loss 0.4953297972679138\n",
      "Epoch 0, Batch id 1200, training loss 0.48018878698349\n",
      "Epoch 0, Batch id 1400, training loss 0.49854224920272827\n",
      "Epoch 0, Batch id 1600, training loss 0.3316604495048523\n",
      "Epoch 0, valid loss 0.40098726749420166\n",
      "Epoch 0, accuracy: (81%)\n",
      "Epoch 1, Batch id 0, training loss 0.22570353746414185\n",
      "Epoch 1, Batch id 200, training loss 0.2031973898410797\n",
      "Epoch 1, Batch id 400, training loss 0.23157468438148499\n",
      "Epoch 1, Batch id 600, training loss 0.2320859134197235\n",
      "Epoch 1, Batch id 800, training loss 0.20975956320762634\n",
      "Epoch 1, Batch id 1000, training loss 0.21806827187538147\n",
      "Epoch 1, Batch id 1200, training loss 0.13482734560966492\n",
      "Epoch 1, Batch id 1400, training loss 0.33494484424591064\n",
      "Epoch 1, Batch id 1600, training loss 0.13739122450351715\n",
      "Epoch 1, valid loss 0.2869723439216614\n",
      "Epoch 1, accuracy: (88%)\n",
      "Epoch 2, Batch id 0, training loss 0.08922947943210602\n",
      "Epoch 2, Batch id 200, training loss 0.058192938566207886\n",
      "Epoch 2, Batch id 400, training loss 0.11800389736890793\n",
      "Epoch 2, Batch id 600, training loss 0.03074335865676403\n",
      "Epoch 2, Batch id 800, training loss 0.07768169045448303\n",
      "Epoch 2, Batch id 1000, training loss 0.07693875581026077\n",
      "Epoch 2, Batch id 1200, training loss 0.15564905107021332\n",
      "Epoch 2, Batch id 1400, training loss 0.13419026136398315\n",
      "Epoch 2, Batch id 1600, training loss 0.24686454236507416\n",
      "Epoch 2, valid loss 0.31779026985168457\n",
      "Epoch 2, accuracy: (90%)\n",
      "Epoch 3, Batch id 0, training loss 0.04038844257593155\n",
      "Epoch 3, Batch id 200, training loss 0.10486449301242828\n",
      "Epoch 3, Batch id 400, training loss 0.03622777760028839\n",
      "Epoch 3, Batch id 600, training loss 0.06274756789207458\n",
      "Epoch 3, Batch id 800, training loss 0.05025128647685051\n",
      "Epoch 3, Batch id 1000, training loss 0.01674388162791729\n",
      "Epoch 3, Batch id 1200, training loss 0.028873031958937645\n",
      "Epoch 3, Batch id 1400, training loss 0.026583246886730194\n",
      "Epoch 3, Batch id 1600, training loss 0.013481772504746914\n",
      "Epoch 3, valid loss 0.328923761844635\n",
      "Epoch 3, accuracy: (90%)\n",
      "Epoch 4, Batch id 0, training loss 0.016643762588500977\n",
      "Epoch 4, Batch id 200, training loss 0.007223535794764757\n",
      "Epoch 4, Batch id 400, training loss 0.04024898260831833\n",
      "Epoch 4, Batch id 600, training loss 0.012736245058476925\n",
      "Epoch 4, Batch id 800, training loss 0.011342541314661503\n",
      "Epoch 4, Batch id 1000, training loss 0.0257707666605711\n",
      "Epoch 4, Batch id 1200, training loss 0.009700613096356392\n",
      "Epoch 4, Batch id 1400, training loss 0.00670743640512228\n",
      "Epoch 4, Batch id 1600, training loss 0.06865137815475464\n",
      "Epoch 4, valid loss 0.34795165061950684\n",
      "Epoch 4, accuracy: (90%)\n"
     ]
    }
   ],
   "source": [
    "\"\"\"\n",
    "The training procedure of the model; it accepts the training data, defines the model \n",
    "and then trains it.\n",
    "\n",
    "input: train_loader: torch.data.util.DataLoader, the object containing the training data\n",
    "    \n",
    "compute: model: torch.nn.Module, the trained model\n",
    "\"\"\"\n",
    "model = Net()\n",
    "model.train()\n",
    "model.to(device)\n",
    "n_epochs = 5\n",
    "# TODO: define a loss function, optimizer and proceed with training. Hint: use the part \n",
    "# of the training data as a validation split. After each epoch, compute the loss on the \n",
    "# validation split and print it out. This enables you to see how your model is performing \n",
    "# on the validation data before submitting the results on the server. After choosing the \n",
    "# best model, train it on the whole training data.\n",
    "loss_function = nn.BCEWithLogitsLoss()\n",
    "optimizer = optim.Adam(model.parameters(), lr=0.001)\n",
    "for epoch in range(n_epochs): \n",
    "    for batch_id, (X, y) in enumerate(train_loader):\n",
    "        X = X.to(device)\n",
    "        y = y.to(device)\n",
    "        output = model(X)\n",
    "        loss = loss_function(torch.flatten(output), y)\n",
    "        optimizer.zero_grad()\n",
    "        loss.backward()\n",
    "        optimizer.step()\n",
    "        if batch_id % 200 == 0:\n",
    "            print('Epoch {}, Batch id {}, training loss {}'.format(epoch, batch_id, loss.item()))\n",
    "\n",
    "    valid_losses = []\n",
    "    correct = 0\n",
    "    with torch.no_grad():\n",
    "        for X, y in valid_loader: \n",
    "            X = X.to(device)   \n",
    "            y = y.to(device)        \n",
    "            output_valid = model(X)\n",
    "            valid_loss = loss_function(torch.flatten(output_valid), y).cpu().numpy()\n",
    "            valid_losses.append(valid_loss)\n",
    "            output_valid = output_valid.cpu().numpy()\n",
    "            output_valid[output_valid >= 0.5] = 1\n",
    "            output_valid[output_valid < 0.5] = 0\n",
    "            y = y.cpu().numpy()[:, np.newaxis]\n",
    "            correct += np.count_nonzero(output_valid == y)\n",
    "        print('Epoch {}, valid loss {}'.format(epoch, np.mean(valid_losses)))\n",
    "        print('Epoch {}, accuracy: ({:.0f}%)'.format(epoch, 100. * correct / len(valid_loader.dataset)))"
   ]
  },
  {
   "cell_type": "code",
   "execution_count": 73,
   "id": "5da3242f",
   "metadata": {},
   "outputs": [
    {
     "name": "stdout",
     "output_type": "stream",
     "text": [
      "Epoch 0, Batch id 0, training loss 0.00781761109828949\n",
      "Epoch 0, Batch id 200, training loss 0.17426347732543945\n",
      "Epoch 0, Batch id 400, training loss 0.07370499521493912\n",
      "Epoch 0, Batch id 600, training loss 0.1618407666683197\n",
      "Epoch 0, Batch id 800, training loss 0.0142525564879179\n",
      "Epoch 0, Batch id 1000, training loss 0.06842170655727386\n",
      "Epoch 0, Batch id 1200, training loss 0.03740624710917473\n",
      "Epoch 0, Batch id 1400, training loss 0.13102327287197113\n",
      "Epoch 0, Batch id 1600, training loss 0.01791166514158249\n",
      "Epoch 0, Batch id 1800, training loss 0.1249326765537262\n",
      "Epoch 1, Batch id 0, training loss 0.01323843002319336\n",
      "Epoch 1, Batch id 200, training loss 0.008971622213721275\n",
      "Epoch 1, Batch id 400, training loss 0.012264356017112732\n",
      "Epoch 1, Batch id 600, training loss 0.04364359751343727\n",
      "Epoch 1, Batch id 800, training loss 0.014654005877673626\n",
      "Epoch 1, Batch id 1000, training loss 0.006816229782998562\n",
      "Epoch 1, Batch id 1200, training loss 0.017346620559692383\n",
      "Epoch 1, Batch id 1400, training loss 0.019222646951675415\n",
      "Epoch 1, Batch id 1600, training loss 0.02400742843747139\n",
      "Epoch 1, Batch id 1800, training loss 0.031393058598041534\n"
     ]
    }
   ],
   "source": [
    "# load the training data\n",
    "X, y = get_data(TRAIN_TRIPLETS)\n",
    "# Create data loaders for the training data\n",
    "train_loader = create_loader_from_np(X, y, train = True, batch_size=batch)\n",
    "# delete the loaded training data to save memory, as the data loader copies\n",
    "del X\n",
    "del y\n",
    "\n",
    "n_epochs = 2\n",
    "for epoch in range(n_epochs):\n",
    "    for batch_id, (X, y) in enumerate(train_loader):\n",
    "        X = X.to(device)\n",
    "        y = y.to(device)\n",
    "        output = model(X)\n",
    "        loss = loss_function(torch.flatten(output), y)\n",
    "        optimizer.zero_grad()\n",
    "        loss.backward()\n",
    "        optimizer.step()\n",
    "        if batch_id % 200 == 0:\n",
    "            print('Epoch {}, Batch id {}, training loss {}'.format( epoch, batch_id, loss.item()))"
   ]
  },
  {
   "cell_type": "code",
   "execution_count": 74,
   "id": "b2ea99b26c348253",
   "metadata": {
    "collapsed": false
   },
   "outputs": [
    {
     "name": "stdout",
     "output_type": "stream",
     "text": [
      "Results saved to results.txt\n"
     ]
    }
   ],
   "source": [
    "\"\"\"\n",
    "The testing procedure of the model; it accepts the testing data and the trained model and \n",
    "then tests the model on it.\n",
    "\n",
    "input: model: torch.nn.Module, the trained model\n",
    "       loader: torch.data.util.DataLoader, the object containing the testing data\n",
    "        \n",
    "compute: None, the function saves the predictions to a results.txt file\n",
    "\"\"\"\n",
    "model.eval()\n",
    "predictions = []\n",
    "# Iterate over the test data\n",
    "with torch.no_grad(): # We don't need to compute gradients for testing\n",
    "    for [x_batch] in test_loader:\n",
    "        x_batch = x_batch.to(device)\n",
    "        predicted = model(x_batch)\n",
    "        predicted = predicted.cpu().numpy()\n",
    "        # Rounding the predictions to 0 or 1\n",
    "        predicted[predicted >= 0.5] = 1\n",
    "        predicted[predicted < 0.5] = 0\n",
    "        predictions.append(predicted)\n",
    "    predictions = np.vstack(predictions)\n",
    "np.savetxt(\"results.txt\", predictions, fmt='%i')\n",
    "print(\"Results saved to results.txt\")"
   ]
  }
 ],
 "metadata": {
  "kernelspec": {
   "display_name": "Python 3",
   "language": "python",
   "name": "python3"
  },
  "language_info": {
   "codemirror_mode": {
    "name": "ipython",
    "version": 3
   },
   "file_extension": ".py",
   "mimetype": "text/x-python",
   "name": "python",
   "nbconvert_exporter": "python",
   "pygments_lexer": "ipython3",
   "version": "3.10.13"
  }
 },
 "nbformat": 4,
 "nbformat_minor": 5
}
