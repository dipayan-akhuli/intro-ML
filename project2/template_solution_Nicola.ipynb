{
 "cells": [
  {
   "cell_type": "markdown",
   "id": "ad2e81b29c71eb2b",
   "metadata": {
    "collapsed": false
   },
   "source": [
    "# Task 2\n",
    "This serves as a template which will guide you through the implementation of this task. It is advised to first read the whole template and get a sense of the overall structure of the code before trying to fill in any of the TODO gaps.\n",
    "This is the jupyter notebook version of the template. For the python file version, please refer to the file `template_solution.py`."
   ]
  },
  {
   "cell_type": "markdown",
   "id": "6de347e31d213bd5",
   "metadata": {
    "collapsed": false
   },
   "source": [
    "First, we import necessary libraries:"
   ]
  },
  {
   "cell_type": "code",
   "execution_count": 87,
   "id": "9e071b8e282a8d6b",
   "metadata": {
    "ExecuteTime": {
     "end_time": "2024-03-10T18:47:37.485752Z",
     "start_time": "2024-03-10T18:47:37.479263Z"
    },
    "collapsed": false
   },
   "outputs": [],
   "source": [
    "import numpy as np\n",
    "import pandas as pd\n",
    "# Add any other imports you need here\n",
    "from sklearn.preprocessing import OneHotEncoder\n",
    "from sklearn import linear_model, model_selection\n",
    "from sklearn.model_selection import KFold\n",
    "from sklearn.experimental import enable_iterative_imputer\n",
    "from sklearn.impute import IterativeImputer\n",
    "from sklearn.impute import KNNImputer\n",
    "from sklearn.gaussian_process import GaussianProcessRegressor\n",
    "from sklearn.gaussian_process.kernels import DotProduct, RBF, Matern, RationalQuadratic"
   ]
  },
  {
   "cell_type": "code",
   "execution_count": 19,
   "id": "c6877146",
   "metadata": {},
   "outputs": [
    {
     "name": "stdout",
     "output_type": "stream",
     "text": [
      "   price_AUS  price_CHF  price_CZE  price_GER  price_ESP  price_FRA  price_UK  \\\n",
      "0        NaN   9.644028  -1.686248  -1.748076  -3.666005        NaN -1.822720   \n",
      "1        NaN   7.246061  -2.132377  -2.054363  -3.295697  -4.104759 -1.826021   \n",
      "2  -2.101937   7.620085  -1.910282        NaN  -3.388777        NaN -2.034409   \n",
      "3  -2.098475   8.411894  -1.903834        NaN  -3.588235        NaN -2.214720   \n",
      "4  -1.969687   8.926884  -1.697257  -1.331049        NaN  -3.911096 -2.388092   \n",
      "5  -1.935209   8.104719  -1.488434        NaN  -3.878786  -3.831497 -2.275584   \n",
      "\n",
      "   price_ITA  price_POL  price_SVK  season_autumn  season_spring  \\\n",
      "0  -3.931031        NaN  -3.238197            0.0            1.0   \n",
      "1        NaN        NaN  -3.212894            0.0            0.0   \n",
      "2  -4.073850        NaN  -3.114061            1.0            0.0   \n",
      "3  -4.018620  -2.330803        NaN            0.0            0.0   \n",
      "4  -4.093946        NaN        NaN            0.0            1.0   \n",
      "5  -4.014349        NaN        NaN            0.0            0.0   \n",
      "\n",
      "   season_summer  season_winter  \n",
      "0            0.0            0.0  \n",
      "1            1.0            0.0  \n",
      "2            0.0            0.0  \n",
      "3            0.0            1.0  \n",
      "4            0.0            0.0  \n",
      "5            1.0            0.0  \n"
     ]
    },
    {
     "name": "stderr",
     "output_type": "stream",
     "text": [
      "/Users/nicolazolliker/anaconda3/envs/iml/lib/python3.10/site-packages/sklearn/preprocessing/_encoders.py:972: FutureWarning: `sparse` was renamed to `sparse_output` in version 1.2 and will be removed in 1.4. `sparse_output` is ignored unless you leave `sparse` to its default value.\n",
      "  warnings.warn(\n"
     ]
    }
   ],
   "source": [
    "#Test: changing season into 4 binary columns\n",
    "\n",
    "import pandas as pd\n",
    "from sklearn.preprocessing import OneHotEncoder\n",
    "\n",
    "train_df = pd.read_csv(\"train.csv\")\n",
    "\n",
    "\n",
    "# Initialize OneHotEncoder\n",
    "encoder = OneHotEncoder(sparse=False)\n",
    "\n",
    "# Fit and transform the data\n",
    "one_hot_encoded = encoder.fit_transform(train_df[['season']])\n",
    "\n",
    "# Convert the one-hot encoded array into a DataFrame\n",
    "one_hot_encoded_df = pd.DataFrame(one_hot_encoded, columns=encoder.get_feature_names_out(['season']))\n",
    "\n",
    "# Concatenate the one-hot encoded DataFrame with the original DataFrame\n",
    "train_df = pd.concat([train_df, one_hot_encoded_df], axis=1)\n",
    "\n",
    "# Drop the original column \n",
    "train_df.drop('season', axis=1, inplace=True)\n",
    "\n",
    "# Print the resulting DataFrame\n",
    "print(train_df.head(6))"
   ]
  },
  {
   "cell_type": "markdown",
   "id": "918f2086e18dd7b5",
   "metadata": {
    "collapsed": false
   },
   "source": [
    "# Data Loading\n",
    "TODO: Perform data preprocessing, imputation and extract X_train, y_train and X_test\n",
    "(and potentially change initialization of variables to accomodate how you deal with non-numeric data)"
   ]
  },
  {
   "cell_type": "code",
   "execution_count": 59,
   "id": "402e111cb0d70236",
   "metadata": {
    "collapsed": false
   },
   "outputs": [
    {
     "name": "stderr",
     "output_type": "stream",
     "text": [
      "/Users/nicolazolliker/anaconda3/envs/iml/lib/python3.10/site-packages/sklearn/preprocessing/_encoders.py:972: FutureWarning: `sparse` was renamed to `sparse_output` in version 1.2 and will be removed in 1.4. `sparse_output` is ignored unless you leave `sparse` to its default value.\n",
      "  warnings.warn(\n",
      "/Users/nicolazolliker/anaconda3/envs/iml/lib/python3.10/site-packages/sklearn/preprocessing/_encoders.py:972: FutureWarning: `sparse` was renamed to `sparse_output` in version 1.2 and will be removed in 1.4. `sparse_output` is ignored unless you leave `sparse` to its default value.\n",
      "  warnings.warn(\n"
     ]
    }
   ],
   "source": [
    "\"\"\"\n",
    "This loads the training and test data, preprocesses it, removes the NaN\n",
    "values and interpolates the missing data using imputation\n",
    "\n",
    "Parameters\n",
    "----------\n",
    "Compute\n",
    "----------\n",
    "X_train: matrix of floats, training input with features\n",
    "y_train: array of floats, training output with labels\n",
    "X_test: matrix of floats: dim = (100, ?), test input with features\n",
    "\"\"\"\n",
    "# Load training data\n",
    "train_df = pd.read_csv(\"train.csv\")\n",
    "\n",
    "    \n",
    "# Load test data\n",
    "test_df = pd.read_csv(\"test.csv\")\n",
    "\n",
    "\n",
    "# Dummy initialization of the X_train, X_test and y_train   \n",
    "# TODO: Depending on how you deal with the non-numeric data, you may want to \n",
    "# Initialize OneHotEncoder\n",
    "encoder = OneHotEncoder(sparse_output=False)\n",
    "\n",
    "# Fit and transform the data\n",
    "one_hot_encoded1 = encoder.fit_transform(train_df[['season']])\n",
    "one_hot_encoded2 = encoder.fit_transform(test_df[['season']])\n",
    "\n",
    "# Convert the one-hot encoded array into a DataFrame\n",
    "one_hot_encoded_df1 = pd.DataFrame(one_hot_encoded1, columns=encoder.get_feature_names_out(['season']))\n",
    "one_hot_encoded_df2 = pd.DataFrame(one_hot_encoded2, columns=encoder.get_feature_names_out(['season']))\n",
    "\n",
    "# Concatenate the one-hot encoded DataFrame with the original DataFrame\n",
    "train_df = pd.concat([train_df, one_hot_encoded_df1], axis=1)\n",
    "test_df = pd.concat([test_df, one_hot_encoded_df2], axis=1)\n",
    "\n",
    "# Drop the original column \n",
    "train_df.drop('season', axis=1, inplace=True)\n",
    "test_df.drop('season', axis=1, inplace=True)\n",
    "\n",
    "\n",
    "# modify/ignore the initialization of these variables   \n",
    "X_train = np.zeros_like(train_df.drop(['price_CHF'],axis=1))\n",
    "y_train = np.zeros_like(train_df['price_CHF'])\n",
    "X_test = np.zeros_like(test_df)\n",
    "\n",
    "# TODO: Perform data preprocessing, imputation and extract X_train, y_train and X_test\n",
    "#kNN imputation\n",
    "imputer = KNNImputer(n_neighbors=5, weights=\"uniform\")\n",
    "imputed_data = imputer.fit_transform(train_df)\n",
    "train_df = pd.DataFrame(imputed_data, columns=train_df.columns)\n",
    "#transform to numpy\n",
    "X_train = train_df.drop(['price_CHF'],axis=1).values\n",
    "y_train = train_df['price_CHF'].values\n",
    "\n",
    "imputed_data = imputer.fit_transform(test_df)\n",
    "test_df = pd.DataFrame(imputed_data, columns=test_df.columns)\n",
    "#transform to numpy\n",
    "X_test = test_df.values\n",
    "\n",
    "\n",
    "assert (X_train.shape[1] == X_test.shape[1]) and (X_train.shape[0] == y_train.shape[0]) and (X_test.shape[0] == 100), \"Invalid data shape\""
   ]
  },
  {
   "cell_type": "code",
   "execution_count": 99,
   "id": "9953f086",
   "metadata": {},
   "outputs": [
    {
     "name": "stdout",
     "output_type": "stream",
     "text": [
      "[[-2.12086072 -1.6862481  -1.74807638 ...  1.          0.\n",
      "   0.        ]\n",
      " [-2.12490715 -2.13237679 -2.05436269 ...  0.          1.\n",
      "   0.        ]\n",
      " [-2.10193661 -1.91028232 -1.90464383 ...  0.          0.\n",
      "   0.        ]\n",
      " ...\n",
      " [-0.97115692  0.24527874  0.55847439 ...  0.          1.\n",
      "   0.        ]\n",
      " [-1.16316339  0.29991092  0.78815177 ...  0.          0.\n",
      "   0.        ]\n",
      " [-1.05834258  0.23183488  0.80046006 ...  0.          0.\n",
      "   1.        ]]\n"
     ]
    }
   ],
   "source": [
    "\n",
    "print(X_train)"
   ]
  },
  {
   "cell_type": "markdown",
   "id": "959037466887e870",
   "metadata": {
    "collapsed": false
   },
   "source": [
    "# Modeling and Prediction\n",
    "TODO: Define the model and fit it using training data. Then, use test data to make predictions"
   ]
  },
  {
   "cell_type": "code",
   "execution_count": 115,
   "id": "9fb0d86b605f9813",
   "metadata": {
    "collapsed": false
   },
   "outputs": [
    {
     "name": "stderr",
     "output_type": "stream",
     "text": [
      "/Users/nicolazolliker/anaconda3/envs/iml/lib/python3.10/site-packages/sklearn/gaussian_process/kernels.py:419: ConvergenceWarning: The optimal value found for dimension 0 of parameter sigma_0 is close to the specified lower bound 1e-05. Decreasing the bound and calling fit again may find a better value.\n",
      "  warnings.warn(\n"
     ]
    },
    {
     "name": "stdout",
     "output_type": "stream",
     "text": [
      "[[0.87755586 0.97523028 0.93928585 0.97545642]\n",
      " [0.90645666 0.93769499 0.85018023 0.94884852]\n",
      " [0.78883046 0.93081321 0.8843229  0.92003786]\n",
      " [0.89476601 0.97350736 0.91091743 0.97491152]\n",
      " [0.89718432 0.96781547 0.91414042 0.97259058]]\n",
      "[0.87295866 0.95701226 0.89976937 0.95836898]\n"
     ]
    }
   ],
   "source": [
    "\"\"\"\n",
    "This defines the model, fits training data and then does the prediction\n",
    "with the test data \n",
    "\n",
    "Parameters\n",
    "----------\n",
    "X_train: matrix of floats, training input with 10 features\n",
    "y_train: array of floats, training output\n",
    "X_test: matrix of floats: dim = (100, ?), test input with 10 features\n",
    "\n",
    "Compute\n",
    "----------\n",
    "y_test: array of floats: dim = (100,), predictions on test set\n",
    "\"\"\"\n",
    "\n",
    "y_pred=np.zeros(X_test.shape[0])\n",
    "#TODO: Define the model and fit it using training data. Then, use test data to make predictions\n",
    "\n",
    "\n",
    "\n",
    "kernel = [DotProduct(), Matern(), RBF(), RationalQuadratic()]\n",
    "score = np.zeros((5, 4))\n",
    "kf = KFold(n_splits=5)\n",
    "j=0\n",
    "for ker in kernel:\n",
    "    i=0\n",
    "    for train, test in kf.split(X_train):\n",
    "        x_cv, x_valid, y_cv, y_valid = X_train[train], X_train[test], y_train[train], y_train[test]\n",
    "        gpr = GaussianProcessRegressor(kernel=ker, n_restarts_optimizer = 3, random_state=42)\n",
    "        gpr.fit(x_cv, y_cv)\n",
    "        score[i, j] = gpr.score(x_valid, y_valid)\n",
    "        i+=1\n",
    "    j+=1\n",
    "\n",
    "print(score)\n",
    "print(np.mean(score, axis=0))\n",
    "\n",
    "\n",
    "assert y_pred.shape == (100,), \"Invalid data shape\""
   ]
  },
  {
   "cell_type": "code",
   "execution_count": 116,
   "id": "ab81c077",
   "metadata": {},
   "outputs": [
    {
     "name": "stdout",
     "output_type": "stream",
     "text": [
      "1.0\n",
      "[-1.98141438 -2.3463881  -2.16027946 -0.56083042 -1.85409909 -2.21389668\n",
      " -1.4336032   0.40344909  0.01194165  1.12006565  0.83905146  2.75164227\n",
      "  2.42790329  2.36704096  2.68664557  1.88051356  1.78646949  1.89615268\n",
      "  2.02966716  1.68483959  2.94215123  3.21006164  3.42328874  3.05548692\n",
      "  3.21032907  4.7405807   5.73818546  7.85939997  8.91027591  9.16855706\n",
      "  9.01049908  7.82563577  7.83746999  7.45292347  7.79665008  7.72958618\n",
      "  7.51630049  7.96117217  7.86521161  7.27419403  7.75828945  7.6442071\n",
      "  7.84180259  7.7702496   7.79919726  8.0966771   7.70314657  8.13663766\n",
      "  7.7629115   7.85225181  7.50884881  7.73309607  7.64679106  8.56907402\n",
      "  7.9247738   9.01739351  8.40676528  8.11544513  6.93099624  6.36473014\n",
      "  6.94012534  5.7478381   5.37925013  5.47215219  5.20779917  5.2556912\n",
      "  4.67550823  4.76457154  4.16667342  5.3299426   4.41704359  5.31858056\n",
      "  3.82480592  5.65373381  5.73185369  6.30247515  7.52730375  7.52380868\n",
      "  8.07635139  8.29110888  8.34287899  8.36368623  7.5883709   8.18525616\n",
      "  8.74328724  8.63102064  8.74515089  8.01286985  7.82869479  7.38268909\n",
      "  7.44038403  8.07976409  8.84023657  9.17974309  8.12421298  7.76690622\n",
      "  8.43717931  7.93906151  6.7396216   6.39754724]\n"
     ]
    }
   ],
   "source": [
    "gpr = GaussianProcessRegressor(kernel=RationalQuadratic(), n_restarts_optimizer = 3, random_state=42)\n",
    "gpr.fit(X_train, y_train)\n",
    "y_pred = gpr.predict(X_test)\n",
    "print(gpr.score(X_train, y_train))\n",
    "print(y_pred)"
   ]
  },
  {
   "cell_type": "markdown",
   "id": "9c62e0cd4cec5a7e",
   "metadata": {
    "collapsed": false
   },
   "source": [
    "# Saving Results\n",
    "You don't have to change this"
   ]
  },
  {
   "cell_type": "code",
   "execution_count": 113,
   "id": "382d87d2d67ddbdc",
   "metadata": {
    "collapsed": false
   },
   "outputs": [
    {
     "name": "stdout",
     "output_type": "stream",
     "text": [
      "\n",
      "Results file successfully generated!\n"
     ]
    }
   ],
   "source": [
    "dt = pd.DataFrame(y_pred) \n",
    "dt.columns = ['price_CHF']\n",
    "dt.to_csv('results_nicola_kNN.csv', index=False)\n",
    "print(\"\\nResults file successfully generated!\")"
   ]
  },
  {
   "cell_type": "code",
   "execution_count": null,
   "id": "d4d46672",
   "metadata": {},
   "outputs": [],
   "source": []
  }
 ],
 "metadata": {
  "kernelspec": {
   "display_name": "Python 3",
   "language": "python",
   "name": "python3"
  },
  "language_info": {
   "codemirror_mode": {
    "name": "ipython",
    "version": 3
   },
   "file_extension": ".py",
   "mimetype": "text/x-python",
   "name": "python",
   "nbconvert_exporter": "python",
   "pygments_lexer": "ipython3",
   "version": "3.10.13"
  }
 },
 "nbformat": 4,
 "nbformat_minor": 5
}
