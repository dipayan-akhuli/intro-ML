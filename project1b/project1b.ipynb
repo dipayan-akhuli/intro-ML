{
 "cells": [
  {
   "cell_type": "markdown",
   "metadata": {},
   "source": [
    "# Project 1b\n",
    "\n",
    "This serves as a template which will guide you through the implementation of this task. It is advised\n",
    "to first read the whole template and get a sense of the overall structure of the code before trying to fill in any of the TODO gaps.\n",
    "This is the jupyter notebook version of the template. For the python file version, please refer to the file `template_solution.py`.\n",
    "\n",
    "First, we import necessary libraries:"
   ]
  },
  {
   "cell_type": "code",
   "execution_count": 1,
   "metadata": {},
   "outputs": [],
   "source": [
    "import numpy as np\n",
    "import pandas as pd\n",
    "\n",
    "# Add any additional imports here (however, the task is solvable without using \n",
    "# any additional imports)\n",
    "from sklearn import linear_model, model_selection\n",
    "from sklearn.metrics import mean_squared_error, mean_absolute_error, r2_score, PredictionErrorDisplay"
   ]
  },
  {
   "cell_type": "markdown",
   "metadata": {},
   "source": [
    " #### Loading data"
   ]
  },
  {
   "cell_type": "code",
   "execution_count": 2,
   "metadata": {},
   "outputs": [
    {
     "name": "stdout",
     "output_type": "stream",
     "text": [
      "     x1    x2    x3    x4    x5\n",
      "0  0.02  0.05 -0.09 -0.43 -0.08\n",
      "1 -0.13  0.11 -0.08 -0.29 -0.03\n",
      "2  0.08  0.06 -0.07 -0.41 -0.03\n",
      "3  0.02 -0.12  0.01 -0.43 -0.02\n",
      "4 -0.14 -0.12 -0.08 -0.02 -0.08\n"
     ]
    }
   ],
   "source": [
    "data = pd.read_csv(\"train.csv\")\n",
    "y = data[\"y\"].to_numpy()\n",
    "data = data.drop(columns=[\"Id\", \"y\"])\n",
    "# print a few data samples\n",
    "print(data.head())\n",
    "X = data.to_numpy()"
   ]
  },
  {
   "cell_type": "markdown",
   "metadata": {},
   "source": [
    "#### Transform data"
   ]
  },
  {
   "cell_type": "code",
   "execution_count": 3,
   "metadata": {},
   "outputs": [],
   "source": [
    "\"\"\"\n",
    "Transform the 5 input features of matrix X (x_i denoting the i-th component of X) \n",
    "into 21 new features phi(X) in the following manner:\n",
    "5 linear features: phi_1(X) = x_1, phi_2(X) = x_2, phi_3(X) = x_3, phi_4(X) = x_4, phi_5(X) = x_5\n",
    "5 quadratic features: phi_6(X) = x_1^2, phi_7(X) = x_2^2, phi_8(X) = x_3^2, phi_9(X) = x_4^2, phi_10(X) = x_5^2\n",
    "5 exponential features: phi_11(X) = exp(x_1), phi_12(X) = exp(x_2), phi_13(X) = exp(x_3), phi_14(X) = exp(x_4), phi_15(X) = exp(x_5)\n",
    "5 cosine features: phi_16(X) = cos(x_1), phi_17(X) = cos(x_2), phi_18(X) = cos(x_3), phi_19(X) = cos(x_4), phi_20(X) = cos(x_5)\n",
    "1 constant feature: phi_21(X)=1\n",
    "\n",
    "Parameters\n",
    "----------\n",
    "X: matrix of floats, dim = (700,5), inputs with 5 features\n",
    "\n",
    "Compute\n",
    "----------\n",
    "X_transformed: array of floats: dim = (700,21), transformed input with 21 features\n",
    "\"\"\"\n",
    "X_transformed = np.zeros((700, 21))\n",
    "\n",
    "# TODO: Enter your code here\n",
    "X_transformed = np.hstack((X, np.square(X), np.exp(X), np.cos(X), np.ones((700, 1))))\n",
    "#####\n",
    "\n",
    "assert X_transformed.shape == (700, 21)"
   ]
  },
  {
   "cell_type": "markdown",
   "metadata": {},
   "source": [
    "#### Fit data (TODO)"
   ]
  },
  {
   "cell_type": "code",
   "execution_count": 4,
   "metadata": {},
   "outputs": [],
   "source": [
    "\"\"\"\n",
    "Use the transformed data points X_transformed and fit the linear regression on this \n",
    "transformed data. Finally, compute the weights of the fitted linear regression. \n",
    "\n",
    "Parameters\n",
    "----------\n",
    "X_transformed: array of floats: dim = (700,21), transformed input with 21 features\n",
    "y: array of floats, dim = (700,), input labels)\n",
    "\n",
    "Compute\n",
    "----------\n",
    "w: array of floats: dim = (21,), optimal parameters of linear regression\n",
    "\"\"\"\n",
    "w = np.zeros((21,))\n",
    "\n",
    "# TODO: Enter your code here\n",
    "\n",
    "#####\n",
    "\n",
    "assert w.shape == (21,)"
   ]
  },
  {
   "cell_type": "code",
   "execution_count": 5,
   "metadata": {},
   "outputs": [
    {
     "name": "stdout",
     "output_type": "stream",
     "text": [
      "Coefficients: \n",
      " [ 0.83560546 -1.0922304  -0.9373202   0.39572759 -0.06052491 -1.65909449\n",
      "  1.57817549 -0.82710702  0.38750165  3.36084902 -1.18100705 -0.66577088\n",
      " -1.74241497 -0.18267602  0.90279138  0.46742226 -1.17418472  0.03076527\n",
      " -0.62545767 -2.01133209 -0.38726443]\n",
      "Root Mean Squared Error: 1.8246278497465436\n"
     ]
    }
   ],
   "source": [
    "# square loss ; ridge, lambda = 0.1\n",
    "x_train, x_valid, y_train, y_valid = model_selection.train_test_split(X_transformed, y, test_size = 0.2, random_state = 42)\n",
    "reg = linear_model.Ridge(alpha=0.1, fit_intercept=False, random_state=42)\n",
    "reg.fit(x_train, y_train)\n",
    "pred_valid = reg.predict(x_valid)\n",
    "w = reg.coef_\n",
    "print(\"Coefficients: \\n\", w)\n",
    "# evaluate model performance on validation data\n",
    "print('Root Mean Squared Error:', np.sqrt(mean_squared_error(y_valid, pred_valid)))\n",
    "\n",
    "reg.fit(X_transformed, y)\n",
    "w = reg.coef_"
   ]
  },
  {
   "cell_type": "code",
   "execution_count": 6,
   "metadata": {},
   "outputs": [
    {
     "name": "stdout",
     "output_type": "stream",
     "text": [
      "Coefficients: \n",
      " [ 0.80711335 -1.08612605 -0.93600379  0.38388339 -0.05694639 -1.67246809\n",
      "  1.57525671 -0.81807855  0.38186206  3.31414926 -1.15248637 -0.67200265\n",
      " -1.74148948 -0.1713281   0.88279014  0.46378936 -1.17979813  0.01817814\n",
      " -0.62569178 -1.99705229 -0.3947176 ]\n",
      "Root Mean Squared Error: 1.8245924410535572\n"
     ]
    }
   ],
   "source": [
    "# square loss ; ridge, lambda = 0.1; stochastic average gradient descent\n",
    "reg = linear_model.Ridge(alpha=0.1, fit_intercept=False, solver='saga', random_state=42)\n",
    "reg.fit(x_train, y_train)\n",
    "pred_valid = reg.predict(x_valid)\n",
    "w = reg.coef_\n",
    "print(\"Coefficients: \\n\", w)\n",
    "# evaluate model performance on validation data\n",
    "print('Root Mean Squared Error:', np.sqrt(mean_squared_error(y_valid, pred_valid)))\n",
    "\n",
    "reg.fit(X_transformed, y)\n",
    "w = reg.coef_"
   ]
  },
  {
   "cell_type": "code",
   "execution_count": 7,
   "metadata": {},
   "outputs": [
    {
     "name": "stdout",
     "output_type": "stream",
     "text": [
      "Coefficients: \n",
      " [ 0.          0.          0.          0.          0.         -0.\n",
      " -0.         -0.         -0.          0.         -0.07735548 -1.58858225\n",
      " -1.51381443 -0.         -0.         -1.14980985 -1.49865648 -0.02969151\n",
      " -0.         -0.58172346 -0.        ]\n",
      "Root Mean Squared Error: 1.8232168615145992\n"
     ]
    }
   ],
   "source": [
    "# square loss ; lasso, lambda = 0.1\n",
    "reg = linear_model.Lasso(alpha=0.1, fit_intercept=False, random_state=42)\n",
    "reg.fit(x_train, y_train)\n",
    "pred_valid = reg.predict(x_valid)\n",
    "w = reg.coef_\n",
    "print(\"Coefficients: \\n\", w)\n",
    "# evaluate model performance on validation data\n",
    "print('Root Mean Squared Error:', np.sqrt(mean_squared_error(y_valid, pred_valid)))\n",
    "\n",
    "reg.fit(X_transformed, y)\n",
    "w = reg.coef_"
   ]
  },
  {
   "cell_type": "code",
   "execution_count": 8,
   "metadata": {},
   "outputs": [
    {
     "name": "stdout",
     "output_type": "stream",
     "text": [
      "Coefficients: \n",
      " [ 0.4491419  -0.87807598 -0.9203283   0.29633193  0.02416857 -1.07251858\n",
      "  0.83517203 -0.27380556  0.18328835  1.24471363 -0.75487491 -0.93361942\n",
      " -1.52698303 -0.17981854  0.05872438  0.06984616 -0.88500311 -0.33210305\n",
      " -0.57155137 -1.07269721 -0.46984047]\n",
      "Root Mean Squared Error: 1.8253920930665348\n"
     ]
    }
   ],
   "source": [
    "# Huber loss ; epsilon = 4, lambda = 0.2\n",
    "reg = linear_model.HuberRegressor(epsilon=4, alpha=0.2, fit_intercept=False, max_iter=1000)\n",
    "reg.fit(x_train, y_train)\n",
    "pred_valid = reg.predict(x_valid)\n",
    "w = reg.coef_\n",
    "print(\"Coefficients: \\n\", w)\n",
    "# evaluate model performance on validation data\n",
    "print('Root Mean Squared Error:', np.sqrt(mean_squared_error(y_valid, pred_valid)))\n",
    "\n",
    "reg.fit(X_transformed, y)\n",
    "w = reg.coef_"
   ]
  },
  {
   "cell_type": "code",
   "execution_count": 9,
   "metadata": {},
   "outputs": [],
   "source": [
    "# Save results in the required format\n",
    "# np.savetxt(\"./results-huberloss-eps4-ridge0.2.csv\", w, fmt=\"%.12f\")"
   ]
  }
 ],
 "metadata": {
  "kernelspec": {
   "display_name": ".venv",
   "language": "python",
   "name": "python3"
  },
  "language_info": {
   "codemirror_mode": {
    "name": "ipython",
    "version": 3
   },
   "file_extension": ".py",
   "mimetype": "text/x-python",
   "name": "python",
   "nbconvert_exporter": "python",
   "pygments_lexer": "ipython3",
   "version": "3.10.13"
  }
 },
 "nbformat": 4,
 "nbformat_minor": 2
}
