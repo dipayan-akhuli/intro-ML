{
 "cells": [
  {
   "cell_type": "markdown",
   "metadata": {},
   "source": [
    "# Project 1b"
   ]
  },
  {
   "cell_type": "markdown",
   "metadata": {},
   "source": [
    "#### Importing libraries"
   ]
  },
  {
   "cell_type": "code",
   "execution_count": 1,
   "metadata": {},
   "outputs": [],
   "source": [
    "import numpy as np\n",
    "import pandas as pd\n",
    "\n",
    "# Add any additional imports here (however, the task is solvable without using any additional imports)\n",
    "from sklearn import linear_model, model_selection\n",
    "from sklearn.model_selection import KFold"
   ]
  },
  {
   "cell_type": "markdown",
   "metadata": {},
   "source": [
    " #### Loading data"
   ]
  },
  {
   "cell_type": "code",
   "execution_count": 2,
   "metadata": {},
   "outputs": [
    {
     "name": "stdout",
     "output_type": "stream",
     "text": [
      "     x1    x2    x3    x4    x5\n",
      "0  0.02  0.05 -0.09 -0.43 -0.08\n",
      "1 -0.13  0.11 -0.08 -0.29 -0.03\n",
      "2  0.08  0.06 -0.07 -0.41 -0.03\n",
      "3  0.02 -0.12  0.01 -0.43 -0.02\n",
      "4 -0.14 -0.12 -0.08 -0.02 -0.08\n"
     ]
    }
   ],
   "source": [
    "data = pd.read_csv(\"train.csv\")\n",
    "y = data[\"y\"].to_numpy()\n",
    "data = data.drop(columns=[\"Id\", \"y\"])\n",
    "# print a few data samples\n",
    "print(data.head())\n",
    "X = data.to_numpy()"
   ]
  },
  {
   "cell_type": "markdown",
   "metadata": {},
   "source": [
    "#### Transforming data"
   ]
  },
  {
   "cell_type": "code",
   "execution_count": 3,
   "metadata": {},
   "outputs": [],
   "source": [
    "\"\"\"\n",
    "Transform the 5 input features of matrix X (x_i denoting the i-th component of X) \n",
    "into 21 new features phi(X) in the following manner:\n",
    "5 linear features: phi_1(X) = x_1, phi_2(X) = x_2, phi_3(X) = x_3, phi_4(X) = x_4, phi_5(X) = x_5\n",
    "5 quadratic features: phi_6(X) = x_1^2, phi_7(X) = x_2^2, phi_8(X) = x_3^2, phi_9(X) = x_4^2, phi_10(X) = x_5^2\n",
    "5 exponential features: phi_11(X) = exp(x_1), phi_12(X) = exp(x_2), phi_13(X) = exp(x_3), phi_14(X) = exp(x_4), phi_15(X) = exp(x_5)\n",
    "5 cosine features: phi_16(X) = cos(x_1), phi_17(X) = cos(x_2), phi_18(X) = cos(x_3), phi_19(X) = cos(x_4), phi_20(X) = cos(x_5)\n",
    "1 constant feature: phi_21(X)=1\n",
    "\n",
    "Parameters\n",
    "----------\n",
    "X: matrix of floats, dim = (700,5), inputs with 5 features\n",
    "\n",
    "Compute\n",
    "----------\n",
    "X_transformed: array of floats: dim = (700,21), transformed input with 21 features\n",
    "\"\"\"\n",
    "X_transformed = np.zeros((700, 21))\n",
    "\n",
    "# TODO: Enter your code here\n",
    "X_transformed = np.hstack((X, np.square(X), np.exp(X), np.cos(X), np.ones((700, 1))))\n",
    "#####\n",
    "\n",
    "assert X_transformed.shape == (700, 21)"
   ]
  },
  {
   "cell_type": "markdown",
   "metadata": {},
   "source": [
    "#### Performing model selection"
   ]
  },
  {
   "cell_type": "code",
   "execution_count": 4,
   "metadata": {},
   "outputs": [
    {
     "name": "stdout",
     "output_type": "stream",
     "text": [
      "[1.9600833  1.95872163 1.95812307 1.9581467  1.95840483 1.95872958\n",
      " 1.95916479 1.95968563]\n"
     ]
    }
   ],
   "source": [
    "# lasso regularization, k-fold CV to choose lambda\n",
    "lambdas = [0.01, 0.02, 0.03, 0.04, 0.05, 0.06, 0.07, 0.08] # slow convergence for higher lambdas\n",
    "n_folds = 5\n",
    "RMSE_mat = np.zeros((n_folds, len(lambdas)))\n",
    "kf = KFold(n_splits=n_folds)\n",
    "j = 0\n",
    "for lam in lambdas:\n",
    "    i = 0\n",
    "    for train, test in kf.split(X):\n",
    "        x_train, x_test, y_train, y_test = X_transformed[train], X_transformed[test], y[train], y[test]\n",
    "        reg = linear_model.Lasso(alpha=lam, fit_intercept=False, random_state=42)\n",
    "        reg.fit(x_train, y_train)\n",
    "        w = reg.coef_\n",
    "        n = len(y_test)\n",
    "        RMSE_mat[i, j] = np.sqrt((1/n) * (np.linalg.norm(y_test - (x_test@w))**2))\n",
    "        i += 1\n",
    "    j += 1\n",
    "avg_RMSE = np.mean(RMSE_mat, axis=0)\n",
    "print(avg_RMSE)"
   ]
  },
  {
   "cell_type": "code",
   "execution_count": 5,
   "metadata": {},
   "outputs": [
    {
     "name": "stdout",
     "output_type": "stream",
     "text": [
      "Coefficients: \n",
      " [ 0.         -0.         -0.          0.          0.         -0.\n",
      "  0.          0.         -0.          0.         -0.10314805 -1.71780757\n",
      " -2.41998714 -0.         -0.00797411 -0.72869001 -1.52968372 -0.\n",
      " -0.         -0.01020332 -0.        ]\n"
     ]
    }
   ],
   "source": [
    "# lasso regularization, lambda = 0.03 (lowest cross-validation error)\n",
    "reg = linear_model.Lasso(alpha=0.03, fit_intercept=False, random_state=42)\n",
    "reg.fit(X_transformed, y)\n",
    "w = reg.coef_\n",
    "print(\"Coefficients: \\n\", w)"
   ]
  },
  {
   "cell_type": "code",
   "execution_count": 6,
   "metadata": {},
   "outputs": [
    {
     "name": "stdout",
     "output_type": "stream",
     "text": [
      "[1.96878705 1.96469275 1.96317828 1.96047518 1.9601682  1.96025772\n",
      " 1.96083767 1.96292632]\n"
     ]
    }
   ],
   "source": [
    "# ridge regularization, k-fold CV to choose lambda\n",
    "lambdas = [0.1, 0.5, 1, 5, 10, 20, 50, 100]\n",
    "n_folds = 5\n",
    "RMSE_mat = np.zeros((n_folds, len(lambdas)))\n",
    "kf = KFold(n_splits=n_folds)\n",
    "j = 0\n",
    "for lam in lambdas:\n",
    "    i = 0\n",
    "    for train, test in kf.split(X):\n",
    "        x_train, x_test, y_train, y_test = X_transformed[train], X_transformed[test], y[train], y[test]\n",
    "        reg = linear_model.Ridge(alpha=lam, fit_intercept=False, random_state=42)\n",
    "        reg.fit(x_train, y_train)\n",
    "        w = reg.coef_\n",
    "        n = len(y_test)\n",
    "        RMSE_mat[i, j] = np.sqrt((1/n) * (np.linalg.norm(y_test - (x_test@w))**2))\n",
    "        i += 1\n",
    "    j += 1\n",
    "avg_RMSE = np.mean(RMSE_mat, axis=0)\n",
    "print(avg_RMSE)"
   ]
  },
  {
   "cell_type": "markdown",
   "metadata": {},
   "source": [
    "#### Fitting data"
   ]
  },
  {
   "cell_type": "code",
   "execution_count": 7,
   "metadata": {},
   "outputs": [
    {
     "name": "stdout",
     "output_type": "stream",
     "text": [
      "Coefficients: \n",
      " [ 0.13452424 -0.31706357 -0.46497623  0.22050574  0.08450269 -0.16125329\n",
      "  0.08779552  0.08831434 -0.11734824  0.03443236 -0.51061588 -0.83693986\n",
      " -0.98700956 -0.39820775 -0.46428312 -0.48169923 -0.60546589 -0.60568324\n",
      " -0.50433045 -0.5782814  -0.56181812]\n"
     ]
    }
   ],
   "source": [
    "\"\"\"\n",
    "Use the transformed data points X_transformed and fit the linear regression on this \n",
    "transformed data. Finally, compute the weights of the fitted linear regression. \n",
    "\n",
    "Parameters\n",
    "----------\n",
    "X_transformed: array of floats: dim = (700,21), transformed input with 21 features\n",
    "y: array of floats, dim = (700,), input labels)\n",
    "\n",
    "Compute\n",
    "----------\n",
    "w: array of floats: dim = (21,), optimal parameters of linear regression\n",
    "\"\"\"\n",
    "w = np.zeros((21,))\n",
    "\n",
    "# TODO: Enter your code here\n",
    "# ridge regularization, lambda = 10 (lowest cross-validation error)\n",
    "reg = linear_model.Ridge(alpha=10, fit_intercept=False, random_state=42)\n",
    "reg.fit(X_transformed, y)\n",
    "w = reg.coef_\n",
    "print(\"Coefficients: \\n\", w)\n",
    "#####\n",
    "\n",
    "assert w.shape == (21,)"
   ]
  },
  {
   "cell_type": "code",
   "execution_count": null,
   "metadata": {},
   "outputs": [],
   "source": [
    "# Save results in the required format\n",
    "np.savetxt(\"./results.csv\", w, fmt=\"%.12f\")"
   ]
  }
 ],
 "metadata": {
  "kernelspec": {
   "display_name": ".venv",
   "language": "python",
   "name": "python3"
  },
  "language_info": {
   "codemirror_mode": {
    "name": "ipython",
    "version": 3
   },
   "file_extension": ".py",
   "mimetype": "text/x-python",
   "name": "python",
   "nbconvert_exporter": "python",
   "pygments_lexer": "ipython3",
   "version": "3.10.13"
  }
 },
 "nbformat": 4,
 "nbformat_minor": 2
}
