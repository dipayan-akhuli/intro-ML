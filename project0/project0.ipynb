{
 "cells": [
  {
   "cell_type": "markdown",
   "metadata": {
    "id": "0JemBtiBDKLc"
   },
   "source": [
    "# Project 0"
   ]
  },
  {
   "cell_type": "code",
   "execution_count": 1,
   "metadata": {},
   "outputs": [],
   "source": [
    "# import packages\n",
    "from matplotlib import pyplot as plt\n",
    "import numpy as np\n",
    "import pandas as pd\n",
    "import seaborn as sns\n",
    "from sklearn import linear_model\n",
    "from sklearn import model_selection\n",
    "from sklearn.metrics import mean_squared_error, mean_absolute_error, r2_score, PredictionErrorDisplay\n",
    "\n",
    "# read data\n",
    "train = pd.read_csv('train.csv', sep = ',')\n",
    "test = pd.read_csv('test.csv', sep = ',')\n",
    "sample = pd.read_csv('sample.csv', sep = ',')"
   ]
  },
  {
   "cell_type": "code",
   "execution_count": 2,
   "metadata": {},
   "outputs": [],
   "source": [
    "# variables\n",
    "x = train.drop(labels = ['Id', 'y'], axis = 1)\n",
    "y = train['y']\n",
    "x_test = test.drop(labels = ['Id'], axis = 1)"
   ]
  },
  {
   "cell_type": "code",
   "execution_count": 3,
   "metadata": {},
   "outputs": [
    {
     "name": "stdout",
     "output_type": "stream",
     "text": [
      "Coefficients: \n",
      " [0.1 0.1 0.1 0.1 0.1 0.1 0.1 0.1 0.1 0.1]\n",
      "Mean Absolute Error: 5.769437844138636e-13\n",
      "Mean Squared Error: 5.186057511376279e-25\n",
      "Mean Root Squared Error: 7.201428685598628e-13\n",
      "Coefficient of determination: 1.00\n"
     ]
    }
   ],
   "source": [
    "## learn from training data\n",
    "\n",
    "# split training data\n",
    "x_train, x_valid, y_train, y_valid = model_selection.train_test_split(x, y, test_size = 0.2, random_state = 42)\n",
    "\n",
    "# instantiate LinearRegression() Model\n",
    "lr = linear_model.LinearRegression()\n",
    "\n",
    "# train model\n",
    "lr.fit(x_train, y_train)\n",
    "\n",
    "# make predictions on validation data\n",
    "pred_valid = lr.predict(x_valid)\n",
    "\n",
    "# print coefficients\n",
    "print(\"Coefficients: \\n\", lr.coef_)\n",
    "\n",
    "# evaluate model performance on validation data\n",
    "print('Mean Absolute Error:', mean_absolute_error(y_valid, pred_valid))\n",
    "print('Mean Squared Error:', mean_squared_error(y_valid, pred_valid))\n",
    "print('Mean Root Squared Error:', np.sqrt(mean_squared_error(y_valid, pred_valid)))\n",
    "print(\"Coefficient of determination: %.2f\" % r2_score(y_valid, pred_valid))"
   ]
  },
  {
   "cell_type": "code",
   "execution_count": 4,
   "metadata": {},
   "outputs": [],
   "source": [
    "## make predictions on test data\n",
    "pred = lr.predict(x_test)\n",
    "sample['y'] = pred\n",
    "\n",
    "# write to output.csv file\n",
    "sample.to_csv('output.csv', index = False)"
   ]
  }
 ],
 "metadata": {
  "colab": {
   "provenance": [
    {
     "file_id": "1f9TpQ0g2wDYL2INg7u8HXFLKl54Hrv2O",
     "timestamp": 1709644685311
    }
   ]
  },
  "kernelspec": {
   "display_name": "Python 3",
   "language": "python",
   "name": "python3"
  },
  "language_info": {
   "codemirror_mode": {
    "name": "ipython",
    "version": 3
   },
   "file_extension": ".py",
   "mimetype": "text/x-python",
   "name": "python",
   "nbconvert_exporter": "python",
   "pygments_lexer": "ipython3",
   "version": "3.10.13"
  }
 },
 "nbformat": 4,
 "nbformat_minor": 4
}
